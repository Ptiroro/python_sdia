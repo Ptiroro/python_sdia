{
 "cells": [
  {
   "cell_type": "markdown",
   "metadata": {},
   "source": [
    "# Practical session 4 - K-nearest neighbours (K-NN) classification with numpy, scikit-learn, cython and numba\n",
    "\n",
    "Students (pair): group F\n",
    "- [Student 1]([link](https://github.com/Ptiroro)) : Romain BOQUET\n",
    "- [Student 2]([link](https://github.com/DubusA)) : Antoine DUBUS"
   ]
  },
  {
   "cell_type": "markdown",
   "metadata": {},
   "source": [
    "**Useful references for this lab**:\n",
    "\n",
    "[1] scikit-learn: [documentation](https://scikit-learn.org/stable/modules/neighbors.html?highlight=knn%20classification)\n",
    "\n",
    "[2] `numba`: [documentation](http://numba.pydata.org/) \n",
    "\n",
    "[3] cython: [a very useful tutorial](https://cython.readthedocs.io/en/latest/src/userguide/numpy_tutorial.html#numpy-tutorial), and [another one](http://docs.cython.org/en/latest/src/tutorial/cython_tutorial.html)\n",
    "\n",
    "\n",
    "\n",
    "## <a name=\"content\">Contents</a>\n",
    "- [Exercise 1: KNN classification with numpy and sklearn](#ex1)\n",
    "- [Exercise 2: Code acceleration with cython](#ex2)\n",
    "- [Exercise 3: Code acceleration with numba](#ex3)\n",
    "---"
   ]
  },
  {
   "cell_type": "code",
   "execution_count": 1,
   "metadata": {},
   "outputs": [],
   "source": [
    "%load_ext autoreload\n",
    "%autoreload 2"
   ]
  },
  {
   "cell_type": "markdown",
   "metadata": {},
   "source": [
    "## <a name=\"ex1\">Exercise 1: K-Nearest Neighbours (K-NN) classification with numpy and scikit-learn</a> [(&#8593;)](#content)"
   ]
  },
  {
   "cell_type": "markdown",
   "metadata": {},
   "source": [
    "This session is a first introduction to classification using the most intuitive non parametric method: the $K$-nearest neighbours. The principle is [the following](https://scikit-learn.org/stable/modules/neighbors.html?highlight=knn%20classification). A set of labelled observations is given as a learning set. A classification taks then consists in assigning a label to any new observation. In particular, the K-NN approach consists in assigning to the observation the most frequent label among its $K$ nearest neighbours taken in the training set."
   ]
  },
  {
   "cell_type": "markdown",
   "metadata": {},
   "source": [
    "### A. Validation on synthetic data\n",
    "\n",
    "Load the training and test datasets `data/synth_train.txt` and `data/synth_test.txt`. Targets belong to the set $\\{1,2\\}$ and entries belong to $\\mathbb{R}^2$. The file `data/synth_train.txt` contain 100 training data samples, and `data/synth_test.txt` contains 200 test samples, where:\n",
    "\n",
    "- the 1st column contains the label of the class the sample;\n",
    "- columns 2 & 3 contain the coordinates of each sample (in $\\mathbb{R}^2$).\n",
    "\n",
    "Useful commands can be found below."
   ]
  },
  {
   "cell_type": "markdown",
   "metadata": {},
   "source": [
    "```python\n",
    "# load the training set\n",
    "train = np.loadtxt('data/synth_train.txt')  #...,delimiter=',') if there are ',' as delimiters\n",
    "class_train = train[:,0]\n",
    "x_train = train[:,1:]\n",
    "N_train = train.shape[0]\n",
    "```"
   ]
  },
  {
   "cell_type": "markdown",
   "metadata": {},
   "source": [
    "```python\n",
    "# load the test set\n",
    "test = np.loadtxt('/datasynth_test.txt') \n",
    "class_test_1 = test[test[:,0]==1]\n",
    "class_test_2 = test[test[:,0]==2]\n",
    "x_test = test[:,1:]\n",
    "N_test = test.shape[0]\n",
    "```"
   ]
  },
  {
   "cell_type": "markdown",
   "metadata": {},
   "source": [
    "1\\. Display the training set and distinguish the two classes. \n",
    "\n",
    "> Hint: useful functions include `matplotlib.pyplot.scatter` or `matplotlib.pyplot.plot`."
   ]
  },
  {
   "cell_type": "markdown",
   "metadata": {},
   "source": [
    "**Answer:**"
   ]
  },
  {
   "cell_type": "code",
   "execution_count": 1,
   "metadata": {},
   "outputs": [
    {
     "data": {
      "image/png": "[encoded data removed]",
      "text/plain": [
       "<Figure size 640x480 with 1 Axes>"
      ]
     },
     "metadata": {},
     "output_type": "display_data"
    }
   ],
   "source": [
    "# your code\n",
    "import numpy as np\n",
    "import matplotlib.pyplot as plt\n",
    "\n",
    "# load the training set\n",
    "train = np.loadtxt('data/synth_train.txt')  #...,delimiter=',')\n",
    "class_train = train[:,0]\n",
    "x_train = train[:,1:]\n",
    "N_train = train.shape[0]\n",
    "\n",
    "x_train_class1 = x_train[class_train == 1]\n",
    "x_train_class2 = x_train[class_train == 2]\n",
    "plt.scatter(x_train_class1[:,0], x_train_class1[:,1], label = 'class 1')\n",
    "plt.scatter(x_train_class2[:,0], x_train_class2[:,1], label = 'class 2')\n",
    "plt.legend(loc=0)\n",
    "plt.show()\n"
   ]
  },
  {
   "cell_type": "markdown",
   "metadata": {},
   "source": [
    "2\\. Implement the K-nearest neighbours algorithm for classification.\n",
    "\n",
    "> Hint: \n",
    "> - useful functions include `numpy.linalg.norm`, `numpy.argsort`, `numpy.bincount`;\n",
    "> - implement the algorithm as a function rather than an object. This will drastically simplify the acceleration step using Cython.\n",
    "> - for an optimized partial sorting procedure, you may have a look at the [`bottleneck.argpartition` function](https://bottleneck.readthedocs.io/en/latest/reference.html#bottleneck.argpartition).\n",
    "> 1. Compute for each row in `x_test` (if necessary use `np.newaxis`) its distance with respect to `x_train`:\n",
    ">  - Use  `numpy.linalg.norm` (in which dimension this distance is computed ? Consider using `axis` argument)\n",
    "> 2. Sort the ordered collection of distances (indices from smallest to largest (in ascending order) by the distances):\n",
    ">   - Use `np.argsort` (at the end replace this procedure by `bottleneck.argpartition`)\n",
    ">   - Once the sorting is done, we take only the indices of `labels` of the `n_neighbours` nearest neighbours of the `class_train` :\n",
    ">     - `id = np.argsort(distances)[:n_ neighbours]` and `labels = class_train[id]`\n",
    "> 3. The K-nearest can be used for **Regression**, in this case it is necessary to return the mean of the K-labels. For **Classification**,  we return the mode of the K-labels :\n",
    "> - Use `np.bincount` for `labels` to affect the variable `class_pred[q]` (for row `q`). This procedure counts the number of occurrences of each value in array. **Mode** is the value that appears. How can we get this value ?\n"
   ]
  },
  {
   "cell_type": "markdown",
   "metadata": {},
   "source": [
    "**Answer:**"
   ]
  },
  {
   "cell_type": "code",
   "execution_count": 2,
   "metadata": {},
   "outputs": [],
   "source": [
    "# your code\n",
    "test = np.loadtxt('data/synth_test.txt')\n",
    "class_test_1 = test[test[:,0]==1]\n",
    "class_test_2 = test[test[:,0]==2]\n",
    "x_test = test[:,1:]\n",
    "N_test = test.shape[0]\n",
    "\n",
    "def knn_classification(x_train, class_train, x_test, K):\n",
    "    N_test = x_test.shape[0]\n",
    "    class_pred = np.zeros(N_test)\n",
    "\n",
    "    for q in range(N_test):\n",
    "        distances = np.linalg.norm(x_train - x_test[q, np.newaxis], axis=1)\n",
    "\n",
    "        nearest_neighbors = np.argsort(distances)[:K]\n",
    "        nearest_labels = class_train[nearest_neighbors]\n",
    "\n",
    "        class_pred[q] = np.bincount(nearest_labels.astype(int)).argmax()\n",
    "\n",
    "    return class_pred"
   ]
  },
  {
   "cell_type": "code",
   "execution_count": 3,
   "metadata": {},
   "outputs": [
    {
     "name": "stdout",
     "output_type": "stream",
     "text": [
      "2.5 ms ± 215 µs per loop (mean ± std. dev. of 7 runs, 100 loops each)\n"
     ]
    }
   ],
   "source": [
    "%timeit knn_classification(x_train, class_train, x_test, 10)"
   ]
  },
  {
   "cell_type": "code",
   "execution_count": 41,
   "metadata": {},
   "outputs": [
    {
     "data": {
      "image/png": "[encoded data removed]",
      "text/plain": [
       "<Figure size 640x480 with 1 Axes>"
      ]
     },
     "metadata": {},
     "output_type": "display_data"
    }
   ],
   "source": [
    "# Test\n",
    "label_pred = knn_classification(x_train, class_train, x_test, 10)\n",
    "\n",
    "x_train_class1 = x_train[class_train == 1]\n",
    "x_train_class2 = x_train[class_train == 2]\n",
    "plt.scatter(x_train_class1[:,0], x_train_class1[:,1], label = 'class 1 train')\n",
    "plt.scatter(x_train_class2[:,0], x_train_class2[:,1], label = 'class 2 train')\n",
    "\n",
    "\n",
    "x_test_pred1 = x_test[label_pred == 1]\n",
    "x_test_pred2 = x_test[label_pred == 2]\n",
    "plt.scatter(x_test_pred1[:, 0], x_test_pred1[:, 1], label = 'class 1 test')\n",
    "plt.scatter(x_test_pred2[:, 0], x_test_pred2[:, 1], label = 'class 2 test')\n",
    "\n",
    "plt.title('K = 10 avec np.argsort')\n",
    "plt.legend(loc=0)\n",
    "plt.show()"
   ]
  },
  {
   "cell_type": "code",
   "execution_count": 42,
   "metadata": {},
   "outputs": [],
   "source": [
    "import bottleneck"
   ]
  },
  {
   "cell_type": "code",
   "execution_count": 43,
   "metadata": {},
   "outputs": [],
   "source": [
    "def knn_classification_bottleneck_argpartition(x_train, class_train, x_test, K):\n",
    "    N_test = x_test.shape[0]\n",
    "    class_pred = np.zeros(N_test)\n",
    "\n",
    "    for q in range(N_test):\n",
    "        distances = np.linalg.norm(x_train - x_test[q, np.newaxis], axis=1)\n",
    "\n",
    "        nearest_neighbors = bottleneck.argpartition(distances, kth = K)[:K]\n",
    "        nearest_labels = class_train[nearest_neighbors]\n",
    "\n",
    "        class_pred[q] = np.bincount(nearest_labels.astype(int)).argmax()\n",
    "\n",
    "    return class_pred"
   ]
  },
  {
   "cell_type": "code",
   "execution_count": 44,
   "metadata": {},
   "outputs": [
    {
     "name": "stdout",
     "output_type": "stream",
     "text": [
      "2.96 ms ± 408 µs per loop (mean ± std. dev. of 7 runs, 100 loops each)\n"
     ]
    }
   ],
   "source": [
    "%timeit knn_classification_bottleneck_argpartition(x_train, class_train, x_test, 10)"
   ]
  },
  {
   "cell_type": "code",
   "execution_count": 45,
   "metadata": {},
   "outputs": [
    {
     "data": {
      "image/png": "[encoded data removed]",
      "text/plain": [
       "<Figure size 640x480 with 1 Axes>"
      ]
     },
     "metadata": {},
     "output_type": "display_data"
    }
   ],
   "source": [
    "label_pred = knn_classification_bottleneck_argpartition(x_train, class_train, x_test, 10)\n",
    "\n",
    "x_train_class1 = x_train[class_train == 1]\n",
    "x_train_class2 = x_train[class_train == 2]\n",
    "plt.scatter(x_train_class1[:,0], x_train_class1[:,1], label = 'class 1 train')\n",
    "plt.scatter(x_train_class2[:,0], x_train_class2[:,1], label = 'class 2 train')\n",
    "\n",
    "\n",
    "x_test_pred1 = x_test[label_pred == 1]\n",
    "x_test_pred2 = x_test[label_pred == 2]\n",
    "plt.scatter(x_test_pred1[:, 0], x_test_pred1[:, 1], label = 'class 1 test')\n",
    "plt.scatter(x_test_pred2[:, 0], x_test_pred2[:, 1], label = 'class 2 test')\n",
    "\n",
    "plt.title('K = 10 avec bottleneck.argpartition')\n",
    "plt.legend(loc=0)\n",
    "plt.show()"
   ]
  },
  {
   "cell_type": "markdown",
   "metadata": {},
   "source": [
    "L'utilisation de bottleneck.argpartition à la place de np.argsort permet de réduire le temps d'exécution de 3.06 ms à 2.66 ms. C'est donc un gain de performance qui pourrait être plus significatif sur des données de plus grande taille."
   ]
  },
  {
   "cell_type": "markdown",
   "metadata": {},
   "source": [
    "3\\. Compute the error rate on the training set and the test set for $K \\in \\{1,2, \\dotsc, 20\\}$. Display the classification result (see 1.) for the configuration with the lowest error rate."
   ]
  },
  {
   "cell_type": "markdown",
   "metadata": {},
   "source": [
    "**Answer:**"
   ]
  },
  {
   "cell_type": "code",
   "execution_count": 46,
   "metadata": {},
   "outputs": [
    {
     "data": {
      "text/plain": [
       "Text(0, 0.5, 'error rate')"
      ]
     },
     "execution_count": 46,
     "metadata": {},
     "output_type": "execute_result"
    },
    {
     "data": {
      "image/png": "[encoded data removed]",
      "text/plain": [
       "<Figure size 640x480 with 1 Axes>"
      ]
     },
     "metadata": {},
     "output_type": "display_data"
    }
   ],
   "source": [
    "# your code\n",
    "Errors = []\n",
    "K_list = np.arange(1,21)\n",
    "\n",
    "for K in K_list:\n",
    "    label_pred = knn_classification(x_train, class_train, x_test, K)\n",
    "    nb_good = np.sum(test[:, 0] == label_pred)\n",
    "    error_rate = 1 - nb_good/x_test.shape[0]\n",
    "    Errors.append(error_rate)\n",
    "\n",
    "plt.plot(K_list, Errors, '+')\n",
    "plt.xlabel('K')\n",
    "plt.ylabel('error rate')"
   ]
  },
  {
   "cell_type": "code",
   "execution_count": 47,
   "metadata": {},
   "outputs": [
    {
     "data": {
      "image/png": "[encoded data removed]",
      "text/plain": [
       "<Figure size 640x480 with 1 Axes>"
      ]
     },
     "metadata": {},
     "output_type": "display_data"
    }
   ],
   "source": [
    "# Avec K = 3 :\n",
    "label_pred = knn_classification(x_train, class_train, x_test, 3)\n",
    "\n",
    "x_train_class1 = x_train[class_train == 1]\n",
    "x_train_class2 = x_train[class_train == 2]\n",
    "plt.scatter(x_train_class1[:,0], x_train_class1[:,1], label = 'class 1 train')\n",
    "plt.scatter(x_train_class2[:,0], x_train_class2[:,1], label = 'class 2 train')\n",
    "\n",
    "x_test_pred1 = x_test[label_pred == 1]\n",
    "x_test_pred2 = x_test[label_pred == 2]\n",
    "plt.scatter(x_test_pred1[:, 0], x_test_pred1[:, 1], label = 'class 1 test')\n",
    "plt.scatter(x_test_pred2[:, 0], x_test_pred2[:, 1], label = 'class 2 test')\n",
    "\n",
    "plt.title('K = 3')\n",
    "plt.legend(loc=0)\n",
    "plt.show()"
   ]
  },
  {
   "cell_type": "markdown",
   "metadata": {},
   "source": [
    "4\\. Comment on your results. Which value of $K$ seems optimal ?\n"
   ]
  },
  {
   "cell_type": "markdown",
   "metadata": {},
   "source": [
    "**Answer:**"
   ]
  },
  {
   "cell_type": "markdown",
   "metadata": {},
   "source": [
    "On observe bien 2 clusters pour l'ensemble de test qui correspondent aux deux clusters de l'ensemble de train. En utilisant le taux d'erreur comme classificateur de l'erreur, on observe que le minimum est obtenu pour $K=3$ et il vaut $4.5$%. On observe que pour $K>10$, le taux d'erreur se stabilise vers $8$%."
   ]
  },
  {
   "cell_type": "markdown",
   "metadata": {},
   "source": [
    "5\\. Compare the results of you implementation with those of [`sklearn.neighbors.KNeighborsClassifier`](https://scikit-learn.org/stable/modules/generated/sklearn.neighbors.KNeighborsClassifier.html?highlight=kneighborsclassifier#sklearn.neighbors.KNeighborsClassifier). Compare the runtime of these two versions using the [`timeit`](https://docs.python.org/3/library/timeit.html) module (see session 1)."
   ]
  },
  {
   "cell_type": "markdown",
   "metadata": {},
   "source": [
    "**Answer:**"
   ]
  },
  {
   "cell_type": "code",
   "execution_count": 48,
   "metadata": {},
   "outputs": [
    {
     "name": "stdout",
     "output_type": "stream",
     "text": [
      "Our KNN Accuracy: 0.045\n",
      "Sklearn KNN Accuracy: 0.045\n",
      "Our KNN time: 0.00340 seconds\n",
      "Sklearn KNN time: 0.00339 seconds\n"
     ]
    }
   ],
   "source": [
    "# your code\n",
    "from sklearn.neighbors import KNeighborsClassifier\n",
    "import timeit\n",
    "\n",
    "def run_our_knn():\n",
    "    label_pred_custom = knn_classification(x_train, class_train, x_test, 3)\n",
    "    return label_pred_custom\n",
    "\n",
    "time_our_knn = timeit.timeit('run_our_knn()', globals=globals(), number=1000) / 1000\n",
    "\n",
    "\n",
    "\n",
    "def run_sklearn_knn():\n",
    "    neigh = KNeighborsClassifier(n_neighbors=3)\n",
    "    neigh.fit(x_train, class_train)\n",
    "    pred_sklearn = neigh.predict(x_test)\n",
    "    return pred_sklearn\n",
    "\n",
    "time_sklearn_knn = timeit.timeit('run_sklearn_knn()', globals=globals(), number=1000) / 1000\n",
    "\n",
    "\n",
    "label_pred_our = run_our_knn()\n",
    "label_pred_sklearn = run_sklearn_knn()\n",
    "\n",
    "error_rate_our = 1 - np.sum(test[:, 0] == label_pred_our) / x_test.shape[0]\n",
    "error_rate_sklearn = 1 - np.sum(test[:, 0] == label_pred_sklearn) / x_test.shape[0]\n",
    "\n",
    "print(f\"Our KNN Accuracy: {error_rate_our:.3f}\")\n",
    "print(f\"Sklearn KNN Accuracy: {error_rate_sklearn:.3f}\")\n",
    "\n",
    "print(f\"Our KNN time: {time_our_knn:.5f} seconds\")\n",
    "print(f\"Sklearn KNN time: {time_sklearn_knn:.5f} seconds\")"
   ]
  },
  {
   "cell_type": "markdown",
   "metadata": {},
   "source": [
    "On trouve le même error rate pour $K=3$ entre notre version de KNN-neighbors et celle de sklearn : $error rate = 0.045$.\n",
    "Notre version est un peu plus rapide."
   ]
  },
  {
   "cell_type": "markdown",
   "metadata": {},
   "source": [
    "### B. Application to a real dataset (Breast cancer Wisconsin).\n",
    "\n",
    "6\\. Apply the K-NN classifier to the real dataset `data/wdbc12.data.txt.` Further details about the data are provided in `data/wdbc12.names.txt`.\n",
    "\n",
    "> Hint: you can use the function [`train_test_split` from `sklearn.model_selection`](https://scikit-learn.org/stable/modules/generated/sklearn.model_selection.train_test_split.html) to split the dataset into a training and a test set."
   ]
  },
  {
   "cell_type": "markdown",
   "metadata": {},
   "source": [
    "**Answer:**"
   ]
  },
  {
   "cell_type": "code",
   "execution_count": 49,
   "metadata": {},
   "outputs": [
    {
     "data": {
      "text/plain": [
       "[<matplotlib.lines.Line2D at 0x27f351dfd10>]"
      ]
     },
     "execution_count": 49,
     "metadata": {},
     "output_type": "execute_result"
    },
    {
     "data": {
      "image/png": "[encoded data removed]",
      "text/plain": [
       "<Figure size 640x480 with 1 Axes>"
      ]
     },
     "metadata": {},
     "output_type": "display_data"
    }
   ],
   "source": [
    "# your code\n",
    "from sklearn.model_selection import train_test_split\n",
    "\n",
    "data = np.loadtxt('data/wdbc12.data.txt', delimiter=',')\n",
    "data_train, data_test = train_test_split(data)\n",
    "\n",
    "x_train = data_train[:, 2:]\n",
    "class_train = data_train[:, 1]\n",
    "x_test = data_test[:, 2:]\n",
    "\n",
    "Errors=[]\n",
    "for K in range(1, 50):\n",
    "    preds = knn_classification(x_train, class_train, x_test, K)\n",
    "\n",
    "    error_rate = 1 - np.sum(data_test[:, 1] == preds)/x_test.shape[0]\n",
    "    Errors.append(error_rate)\n",
    "\n",
    "plt.plot(range(1,50), Errors, '+')"
   ]
  },
  {
   "cell_type": "markdown",
   "metadata": {},
   "source": [
    "En utilisant notre méthode, on trouve encore un K optimal : $K=10$. On constate qu'en utilisant la fonction train_test_split du module sklearn, le cas optimal est souvent pour K=10 mais l'erreur peut varier en fonction du split effectué, entre 3 et 8 %."
   ]
  },
  {
   "cell_type": "markdown",
   "metadata": {},
   "source": [
    "## <a name=\"ex2\">Exercise 2: Code acceleration with cython</a> [(&#8593;)](#content)\n",
    "\n",
    "Cython allows C code to be easily interfaced with Python. It can be useful to make your code faster for a small coding effort, in particular when using loops. A general approach to optimize your code is outlined in the [Scipy lecture notes, Section 2.4](https://scipy-lectures.org/advanced/optimizing/index.html). Complementary reading about interfacing Python with C can be found in [Section 2.8](https://scipy-lectures.org/advanced/interfacing_with_c/interfacing_with_c.html).\n",
    "\n",
    "1\\. Read carefully the [cython tutorial](http://docs.cython.org/en/latest/src/tutorial/cython_tutorial.html), which describes step by the step how the toy example reported below has been developed."
   ]
  },
  {
   "cell_type": "markdown",
   "metadata": {},
   "source": [
    "**Setup**: Compile the toy example provided in `example_cy/` by running, in the command line (anaconda prompt on windows)"
   ]
  },
  {
   "cell_type": "markdown",
   "metadata": {},
   "source": [
    "```bash\n",
    "cd example_cy && python setup.py build_ext --inplace\n",
    "```"
   ]
  },
  {
   "cell_type": "markdown",
   "metadata": {},
   "source": [
    "Note that the compilation process has been slightly automatised with the instructions reported in `example_cy/setup.py`. To test the module, run"
   ]
  },
  {
   "cell_type": "code",
   "execution_count": 50,
   "metadata": {},
   "outputs": [
    {
     "name": "stdout",
     "output_type": "stream",
     "text": [
      "Compiling helloworld.pyx because it changed.\n",
      "Compiling primes.pyx because it changed.\n",
      "[1/2] Cythonizing helloworld.pyx\n",
      "[2/2] Cythonizing primes.pyx\n",
      "helloworld.c\n",
      "   Cr�ation de la biblioth�que build\\temp.win-amd64-cpython-311\\Release\\helloworld.cp311-win_amd64.lib et de l'objet build\\temp.win-amd64-cpython-311\\Release\\helloworld.cp311-win_amd64.exp\n",
      "G�n�ration de code en cours\n",
      "Fin de la g�n�ration du code\n",
      "primes.c\n",
      "   Cr�ation de la biblioth�que build\\temp.win-amd64-cpython-311\\Release\\primes.cp311-win_amd64.lib et de l'objet build\\temp.win-amd64-cpython-311\\Release\\primes.cp311-win_amd64.exp\n",
      "G�n�ration de code en cours\n",
      "Fin de la g�n�ration du code\n"
     ]
    }
   ],
   "source": [
    "!cd example_cy && python setup.py build_ext --inplace"
   ]
  },
  {
   "cell_type": "code",
   "execution_count": 51,
   "metadata": {},
   "outputs": [
    {
     "name": "stdout",
     "output_type": "stream",
     "text": [
      "Hello World\n"
     ]
    }
   ],
   "source": [
    "#import example_cy.example_cy.helloworld as toy\n",
    "import example_cy.helloworld as toy\n",
    "\n",
    "toy.printhello()"
   ]
  },
  {
   "cell_type": "markdown",
   "metadata": {},
   "source": [
    "which should display\n",
    "```python\n",
    "Hello World\n",
    "```"
   ]
  },
  {
   "cell_type": "markdown",
   "metadata": {},
   "source": [
    "Remarque : j'ai supprimé le fichier ``__init__.py`` car sinon on avait une erreur lors de la compilation"
   ]
  },
  {
   "cell_type": "markdown",
   "metadata": {},
   "source": [
    "> Warning: \n",
    "> - do not forget to include an empty `__init__.py` file in the directory where your source code lives (`import` will fail if this is not the case).\n",
    "> - in case you have any setup issue, take a look at the `notes.md` file.\n",
    "> - if the C code and/or the executable do not seem to be regenerated by the build instructions, delete the C code and the executable first, and re-execute the compilation afterwards.\n",
    "> - do not hesitate to restart the Python kernel if necessary when the Cython executable has been re-generated."
   ]
  },
  {
   "cell_type": "markdown",
   "metadata": {},
   "source": [
    "2\\. Read the [Numpy/Cython tutorial](https://cython.readthedocs.io/en/latest/src/userguide/numpy_tutorial.html#numpy-tutorial), focussing on the paragraphs **Cython at a glance**, and **Your Cython environment** until **\"More generic code\"**. An example to compile a `.pyx` file depending on `numpy` is included in `example_np_cy/`."
   ]
  },
  {
   "cell_type": "markdown",
   "metadata": {},
   "source": [
    "> Remarks: \n",
    "> - the `annotate=True` flag in the `setup.py` allows an additional `.html` document to be generated (`<your_module_name>.html`), showing, for each line of the Cython code, the associated C instructions generated. Highlighted in yellow are the interactions with Python: the darker a region appears, the less efficient the generated C code is for this section. Work in priority on these! \n",
    "> - make sure all the previously generated files are deleted to allow the .html report to be generated;\n",
    "> - if you are working on your own machine and don't have a C/C++ compiler installed, read the notes provided in `notes.md`;\n",
    "> - use `cdef` for pure C functions (not exported to Python), `cpdef` should be favored for functions containing C instructions and later called from Python."
   ]
  },
  {
   "cell_type": "markdown",
   "metadata": {},
   "source": [
    "Answer: On compile compute_cy et on mesure le temps d'exécution :"
   ]
  },
  {
   "cell_type": "code",
   "execution_count": 53,
   "metadata": {},
   "outputs": [
    {
     "name": "stdout",
     "output_type": "stream",
     "text": [
      "Compiling compute_cy.pyx because it changed.\n",
      "[1/1] Cythonizing compute_cy.pyx\n",
      "compute_cy.c\n",
      "   Cr�ation de la biblioth�que build\\temp.win-amd64-cpython-311\\Release\\compute_cy.cp311-win_amd64.lib et de l'objet build\\temp.win-amd64-cpython-311\\Release\\compute_cy.cp311-win_amd64.exp\n",
      "G�n�ration de code en cours\n",
      "Fin de la g�n�ration du code\n"
     ]
    }
   ],
   "source": [
    "!cd example_np_cy && python setup.py build_ext --inplace"
   ]
  },
  {
   "cell_type": "code",
   "execution_count": 54,
   "metadata": {},
   "outputs": [],
   "source": [
    "import numpy as np"
   ]
  },
  {
   "cell_type": "code",
   "execution_count": 55,
   "metadata": {},
   "outputs": [
    {
     "data": {
      "text/plain": [
       "array([[3004,  310, 1003, ...,   55, 2746, 1702],\n",
       "       [ 595,  934, 1342, ..., 1876, 1498, 1609],\n",
       "       [2557,  205, 2467, ...,  769,  874, 1105],\n",
       "       ...,\n",
       "       [1816,  787, 2155, ..., 2857,  259,  376],\n",
       "       [ 427,  988,  919, ..., 1813,  865, 1129],\n",
       "       [1081,  751, 1105, ..., 2065, 1198,  181]], dtype=int32)"
      ]
     },
     "execution_count": 55,
     "metadata": {},
     "output_type": "execute_result"
    }
   ],
   "source": [
    "import example_np_cy.compute_cy as toy_np\n",
    "\n",
    "array_1 = np.random.uniform(0, 1000, size=(3000, 2000)).astype(np.intc)\n",
    "array_2 = np.random.uniform(0, 1000, size=(3000, 2000)).astype(np.intc)\n",
    "a = 4\n",
    "b = 3\n",
    "c = 9\n",
    "\n",
    "toy_np.compute(array_1, array_2, a, b, c)"
   ]
  },
  {
   "cell_type": "code",
   "execution_count": 56,
   "metadata": {},
   "outputs": [
    {
     "name": "stdout",
     "output_type": "stream",
     "text": [
      "2.59 s ± 220 ms per loop (mean ± std. dev. of 7 runs, 1 loop each)\n"
     ]
    }
   ],
   "source": [
    "%timeit toy_np.compute(array_1, array_2, a, b, c)"
   ]
  },
  {
   "cell_type": "markdown",
   "metadata": {},
   "source": [
    "Le code de la fonction compute est déjà optimisé en ajoutant les types des variables utilisées. On constate sur le fichier html que la partie qui reste à optimiser (celle surlignée de la couleur la plus foncée) est celle-ci : \n",
    "```\n",
    "tmp = clip(array_1[x, y], 2, 10)   \n",
    "tmp = tmp * a + array_2[x, y] * b   \n",
    "result[x, y] = tmp + c\n",
    "```  \n",
    "On optimise le code en utilisant memoryview pour pointer vers les arrays numpy et donc utiliser C au lieu de numpy pour certaines opérations ce qui permet d'améliorer le temps d'exécution.\n",
    "```  \n",
    "cdef int[:, :] result_view = result   \n",
    "```   \n",
    "suivi de l'utilisation de result_view à la place de result permet donc d'utiliser l'array result avec une structure C."
   ]
  },
  {
   "cell_type": "code",
   "execution_count": 57,
   "metadata": {},
   "outputs": [
    {
     "name": "stdout",
     "output_type": "stream",
     "text": [
      "Compiling compute_cy_memoryviews.pyx because it changed.\n",
      "[1/1] Cythonizing compute_cy_memoryviews.pyx\n",
      "compute_cy_memoryviews.c\n",
      "   Cr�ation de la biblioth�que build\\temp.win-amd64-cpython-311\\Release\\compute_cy_memoryviews.cp311-win_amd64.lib et de l'objet build\\temp.win-amd64-cpython-311\\Release\\compute_cy_memoryviews.cp311-win_amd64.exp\n",
      "G�n�ration de code en cours\n",
      "Fin de la g�n�ration du code\n"
     ]
    }
   ],
   "source": [
    "!cd example_np_cy_memoryviews && python setup.py build_ext --inplace"
   ]
  },
  {
   "cell_type": "code",
   "execution_count": 58,
   "metadata": {},
   "outputs": [
    {
     "data": {
      "text/plain": [
       "array([[3004,  310, 1003, ...,   55, 2746, 1702],\n",
       "       [ 595,  934, 1342, ..., 1876, 1498, 1609],\n",
       "       [2557,  205, 2467, ...,  769,  874, 1105],\n",
       "       ...,\n",
       "       [1816,  787, 2155, ..., 2857,  259,  376],\n",
       "       [ 427,  988,  919, ..., 1813,  865, 1129],\n",
       "       [1081,  751, 1105, ..., 2065, 1198,  181]], dtype=int32)"
      ]
     },
     "execution_count": 58,
     "metadata": {},
     "output_type": "execute_result"
    }
   ],
   "source": [
    "import example_np_cy_memoryviews.compute_cy_memoryviews as toy_np_memoryviews\n",
    "\n",
    "toy_np_memoryviews.compute(array_1, array_2, a, b, c)"
   ]
  },
  {
   "cell_type": "code",
   "execution_count": 59,
   "metadata": {},
   "outputs": [
    {
     "name": "stdout",
     "output_type": "stream",
     "text": [
      "26.3 ms ± 1.5 ms per loop (mean ± std. dev. of 7 runs, 10 loops each)\n"
     ]
    }
   ],
   "source": [
    "%timeit toy_np_memoryviews.compute(array_1, array_2, a, b, c)"
   ]
  },
  {
   "cell_type": "markdown",
   "metadata": {},
   "source": [
    "L'utilisation de memoryviews permet donc de passer de 2.22 s d'exécution à seulement 19 ms pour la fonction compute."
   ]
  },
  {
   "cell_type": "markdown",
   "metadata": {},
   "source": [
    "3\\. Use Cython to implement a faster version of the numpy K-NN classifier implemented in [Exercise 1](#ex1). To do so, apply step-by-step the techniques introduced in the [Numpy/Cython tutorial](https://cython.readthedocs.io/en/latest/src/userguide/numpy_tutorial.html#numpy-tutorial) (*i.e.*, compile and time your code after each step to report the evolution, keeping track of the different versions of the cython function).\n",
    "\n",
    "> Hint: if you keep numpy arrays, make sure you use memory views (see numpy/cython tutorial) to access the elements within it. Be extremely careful with the type of the input arrays (you may need to recast the format of the input elements before entering the function. The `numpy.asarray` function can prove useful).\n",
    "\n",
    "> **Detailed guidelines**: a few notes and *caveat* to help you re-writing your code in cython:\n",
    "> - try to reduce the number of calls to numpy instructions as much as possible;\n",
    "> - **you do not have to optimize everything**. For the KNN function above, most of the time is spent in computing euclidean distances: you can thus focus on optimizing tihs operations by explicitly writing a for loop, which will ensure a minimal interaction with numpy when generating the associated C code at compilation. Calls to other numpy functions can be kept as-is;\n",
    "> - if you need to create an array within the cython function, used np.zeros (**do NOT use python lists**), and use a memory view to access its content;\n",
    "> - specify the type for all variables and numpy arrays. Pay attention to the type of the input arrays passed to the Cython function;\n",
    "> - whenever an array is returned, use memory views and index(es) to efficiently access its content;\n",
    "> - some numpy operators (e.g., broadcasting mechanism) do not work with memory views. In this case, you can directly write for loop(s) to encode the operation of interest (the loops will be optimized out at compile time);\n",
    "> - only use at the final development stage the following cython optimization (not before, as they can crash the program without any help):\n",
    ">\n",
    ">```python\n",
    ">@cython.boundscheck(False)\n",
    ">@cython.wraparound(False)\n",
    ">```"
   ]
  },
  {
   "cell_type": "markdown",
   "metadata": {},
   "source": [
    "**Answer:**"
   ]
  },
  {
   "cell_type": "markdown",
   "metadata": {},
   "source": [
    "On réalise une première version V1 du code optimisé avec cython dans lequel on a initialisé toutes les variables de type array avec np.zeros, on a remplacé le calcul de la distance par une boucle for au lieu de np.linalg.norm, et on a modifie toujours les arrays en affectant des valeurs à une certaine position au lieu de laisser numpy faire toutes les affectations automatiquement."
   ]
  },
  {
   "cell_type": "code",
   "execution_count": 4,
   "metadata": {},
   "outputs": [
    {
     "name": "stdout",
     "output_type": "stream",
     "text": [
      "Compiling knn_classifier_V1.pyx because it changed.\n",
      "[1/1] Cythonizing knn_classifier_V1.pyx\n",
      "knn_classifier_V1.c\n",
      "   Cr�ation de la biblioth�que build\\temp.win-amd64-cpython-311\\Release\\knn_classifier_V1.cp311-win_amd64.lib et de l'objet build\\temp.win-amd64-cpython-311\\Release\\knn_classifier_V1.cp311-win_amd64.exp\n",
      "G�n�ration de code en cours\n",
      "Fin de la g�n�ration du code\n"
     ]
    }
   ],
   "source": [
    "!cd knn_classifier_V1 && python setup.py build_ext --inplace"
   ]
  },
  {
   "cell_type": "code",
   "execution_count": 5,
   "metadata": {},
   "outputs": [
    {
     "data": {
      "text/plain": [
       "array([2., 2., 2., 2., 2., 2., 2., 2., 2., 1., 2., 1., 2., 2., 1., 2., 2.,\n",
       "       1., 1., 2., 2., 1., 2., 1., 2., 2., 1., 2., 2., 1., 2., 1., 2., 1.,\n",
       "       2., 2., 1., 1., 2., 2., 2., 2., 2., 2., 2., 2., 2., 1., 1., 2., 2.,\n",
       "       1., 1., 1., 2., 2., 1., 2., 2., 2., 2., 2., 2., 2., 2., 2., 2., 1.,\n",
       "       2., 2., 2., 1., 2., 2., 2., 1., 2., 2., 1., 1., 1., 2., 1., 2., 2.,\n",
       "       2., 1., 2., 2., 2., 2., 2., 2., 2., 2., 2., 2., 2., 2., 2., 2., 2.,\n",
       "       2., 2., 2., 2., 2., 1., 2., 2., 2., 2., 2., 2., 2., 2., 1., 2., 2.,\n",
       "       2., 2., 2., 2., 1., 2., 1., 2., 2., 2., 2., 2., 2., 2., 2., 1., 1.,\n",
       "       2., 2., 2., 2., 2., 2., 1., 1., 1., 2., 2., 2., 1., 2., 2., 2., 2.,\n",
       "       2., 1., 2., 2., 2., 2., 2., 1., 2., 2., 2., 2., 2., 2., 1., 2., 2.,\n",
       "       2., 2., 2., 2., 2., 2., 2., 1., 2., 2., 2., 2., 2., 2., 1., 2., 2.,\n",
       "       2., 1., 2., 1., 1., 1., 2., 2., 2., 2., 2., 2., 1.])"
      ]
     },
     "execution_count": 5,
     "metadata": {},
     "output_type": "execute_result"
    }
   ],
   "source": [
    "import knn_classifier_V1.knn_classifier_V1 as toy_knn_classifier_V1\n",
    "\n",
    "toy_knn_classifier_V1.knn_classification(x_train, class_train, x_test, 10)"
   ]
  },
  {
   "cell_type": "code",
   "execution_count": 6,
   "metadata": {},
   "outputs": [
    {
     "name": "stdout",
     "output_type": "stream",
     "text": [
      "14.4 ms ± 478 µs per loop (mean ± std. dev. of 7 runs, 100 loops each)\n"
     ]
    }
   ],
   "source": [
    "%timeit toy_knn_classifier_V1.knn_classification(x_train, class_train, x_test, 10)"
   ]
  },
  {
   "cell_type": "markdown",
   "metadata": {},
   "source": [
    "On réalise ensuite une deuxième version V2 du code optimisé avec cython en utilisant des memory view pour accéder aux arrays et en précisant les types des arrays en paramètres de la fonction."
   ]
  },
  {
   "cell_type": "code",
   "execution_count": 3,
   "metadata": {},
   "outputs": [
    {
     "name": "stdout",
     "output_type": "stream",
     "text": [
      "Compiling knn_classifier_V2.pyx because it changed.\n",
      "[1/1] Cythonizing knn_classifier_V2.pyx\n",
      "knn_classifier_V2.c\n",
      "   Cr�ation de la biblioth�que build\\temp.win-amd64-cpython-311\\Release\\knn_classifier_V2.cp311-win_amd64.lib et de l'objet build\\temp.win-amd64-cpython-311\\Release\\knn_classifier_V2.cp311-win_amd64.exp\n",
      "G�n�ration de code en cours\n",
      "Fin de la g�n�ration du code\n"
     ]
    }
   ],
   "source": [
    "!cd knn_classifier_V2 && python setup.py build_ext --inplace"
   ]
  },
  {
   "cell_type": "code",
   "execution_count": 4,
   "metadata": {},
   "outputs": [
    {
     "data": {
      "text/plain": [
       "array([2., 2., 2., 2., 2., 2., 2., 2., 2., 1., 2., 1., 2., 2., 1., 2., 2.,\n",
       "       1., 1., 2., 2., 1., 2., 1., 2., 2., 1., 2., 2., 1., 2., 1., 2., 1.,\n",
       "       2., 2., 1., 1., 2., 2., 2., 2., 2., 2., 2., 2., 2., 1., 1., 2., 2.,\n",
       "       1., 1., 1., 2., 2., 1., 2., 2., 2., 2., 2., 2., 2., 2., 2., 2., 1.,\n",
       "       2., 2., 2., 1., 2., 2., 2., 1., 2., 2., 1., 1., 1., 2., 1., 2., 2.,\n",
       "       2., 1., 2., 2., 2., 2., 2., 2., 2., 2., 2., 2., 2., 2., 2., 2., 2.,\n",
       "       2., 2., 2., 2., 2., 1., 2., 2., 2., 2., 2., 2., 2., 2., 1., 2., 2.,\n",
       "       2., 2., 2., 2., 1., 2., 1., 2., 2., 2., 2., 2., 2., 2., 2., 1., 1.,\n",
       "       2., 2., 2., 2., 2., 2., 1., 1., 1., 2., 2., 2., 1., 2., 2., 2., 2.,\n",
       "       2., 1., 2., 2., 2., 2., 2., 1., 2., 2., 2., 2., 2., 2., 1., 2., 2.,\n",
       "       2., 2., 2., 2., 2., 2., 2., 1., 2., 2., 2., 2., 2., 2., 1., 2., 2.,\n",
       "       2., 1., 2., 1., 1., 1., 2., 2., 2., 2., 2., 2., 1.])"
      ]
     },
     "execution_count": 4,
     "metadata": {},
     "output_type": "execute_result"
    }
   ],
   "source": [
    "import knn_classifier_V2.knn_classifier_V2 as toy_knn_classifier_V2\n",
    "\n",
    "toy_knn_classifier_V2.knn_classification(x_train, class_train, x_test, 10)"
   ]
  },
  {
   "cell_type": "code",
   "execution_count": 5,
   "metadata": {},
   "outputs": [
    {
     "name": "stdout",
     "output_type": "stream",
     "text": [
      "2.6 ms ± 106 µs per loop (mean ± std. dev. of 7 runs, 100 loops each)\n"
     ]
    }
   ],
   "source": [
    "%timeit toy_knn_classifier_V2.knn_classification(x_train, class_train, x_test, 10)"
   ]
  },
  {
   "cell_type": "markdown",
   "metadata": {},
   "source": [
    "Enfin, on réalise une troisième version V3 du code optimisé avec cython en ajoutant @cython.boundscheck(False) et @cython.wraparound(False) pour optimiser encore plus le code."
   ]
  },
  {
   "cell_type": "code",
   "execution_count": null,
   "metadata": {},
   "outputs": [],
   "source": []
  },
  {
   "cell_type": "markdown",
   "metadata": {},
   "source": [
    "4\\. Compare the runtime of the two algorithms (using `timeit.timeit`), and conclude about the interest of using cython in this case."
   ]
  },
  {
   "cell_type": "markdown",
   "metadata": {},
   "source": [
    "**Answer:**"
   ]
  },
  {
   "cell_type": "code",
   "execution_count": null,
   "metadata": {},
   "outputs": [],
   "source": [
    "# your code"
   ]
  },
  {
   "cell_type": "markdown",
   "metadata": {},
   "source": [
    "## <a name=\"ex3\">Exercise 3: Code acceleration with numba</a> [(&#8593;)](#content)\n",
    "\n",
    "`numba` is a just-in-time (JIT) compiler which translates Python codes into efficient machine code at runtime. A significant acceleration can be obtained by adding a few simple decorators to a standard Python function, up to a few restrictions detailed [here](http://numba.pydata.org/numba-doc/latest/user/performance-tips.html).\n",
    "\n",
    "If you have written most of the KNN classifier of exercise 1 with numpy, there is little to no chance that you will get an acceleration with numba (justifying the use of cython in this case). An interesting acceleration factor can however be obtained for the computation of the total variation investigated in session 2."
   ]
  },
  {
   "cell_type": "markdown",
   "metadata": {},
   "source": [
    "1\\. Take a look at the [numba 5 min tour](http://numba.pydata.org/numba-doc/latest/user/5minguide.html), and accelerate the total variation code from session 2 with the `@jit` decorator. You may have to rewrite small portions of your code to get the expected acceleration (see [performance tips](http://numba.pydata.org/numba-doc/latest/user/performance-tips.html))."
   ]
  },
  {
   "cell_type": "markdown",
   "metadata": {},
   "source": [
    "**Answer:**"
   ]
  },
  {
   "cell_type": "code",
   "execution_count": null,
   "metadata": {},
   "outputs": [],
   "source": [
    "# your code"
   ]
  },
  {
   "cell_type": "markdown",
   "metadata": {},
   "source": [
    "2\\. Compare the runtime of the your numpy implementation and the `numba`-accelerated version (using `timeit.timeit`). \n",
    "> **Warning**: first run the numba version once to trigger the compilation, and then time it as usual. This is needed to avoid including the JIT compilation step in the runtime."
   ]
  },
  {
   "cell_type": "markdown",
   "metadata": {},
   "source": [
    "**Answer:**"
   ]
  },
  {
   "cell_type": "code",
   "execution_count": null,
   "metadata": {},
   "outputs": [],
   "source": [
    "# your code"
   ]
  }
 ],
 "metadata": {
  "file_extension": ".py",
  "kernelspec": {
   "display_name": "Python 3.8.10 64-bit",
   "language": "python",
   "name": "python3"
  },
  "language_info": {
   "codemirror_mode": {
    "name": "ipython",
    "version": 3
   },
   "file_extension": ".py",
   "mimetype": "text/x-python",
   "name": "python",
   "nbconvert_exporter": "python",
   "pygments_lexer": "ipython3",
   "version": "3.11.3"
  },
  "mimetype": "text/x-python",
  "name": "python",
  "npconvert_exporter": "python",
  "pygments_lexer": "ipython3",
  "version": 3,
  "vscode": {
   "interpreter": {
    "hash": "916dbcbb3f70747c44a77c7bcd40155683ae19c65e1c03b4aa3499c5328201f1"
   }
  }
 },
 "nbformat": 4,
 "nbformat_minor": 4
}
